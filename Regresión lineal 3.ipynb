{
 "cells": [
  {
   "cell_type": "markdown",
   "id": "43292176-7cd6-4620-88b6-ae806e0d90fd",
   "metadata": {},
   "source": [
    "# Generación de intervalo de confianza"
   ]
  },
  {
   "cell_type": "code",
   "execution_count": 6,
   "id": "dcc77408-141a-4b4a-97c3-6bbbcad7f1d6",
   "metadata": {},
   "outputs": [],
   "source": [
    "import pandas as pd\n",
    "import numpy as np\n",
    "import warnings\n",
    "warnings.filterwarnings(\"ignore\")"
   ]
  },
  {
   "cell_type": "markdown",
   "id": "eb93c80d-ff90-47cf-9e56-372cdbfcb223",
   "metadata": {},
   "source": [
    "# Nota: Para este ejemplo asumiremos que los datos de entrenamiento son iguales a los datos de prueba"
   ]
  },
  {
   "cell_type": "code",
   "execution_count": 8,
   "id": "c209152d-ae3f-491f-9974-a1e26bc3e519",
   "metadata": {},
   "outputs": [
    {
     "data": {
      "text/plain": [
       "array([[3],\n",
       "       [1],\n",
       "       [8],\n",
       "       [3],\n",
       "       [5]])"
      ]
     },
     "execution_count": 8,
     "metadata": {},
     "output_type": "execute_result"
    }
   ],
   "source": [
    "Y= np.array([[3],[1],[8],[3],[5]])\n",
    "Y"
   ]
  },
  {
   "cell_type": "code",
   "execution_count": 14,
   "id": "2c6453f5-2a0c-42a0-a2bb-ed303adc71a6",
   "metadata": {},
   "outputs": [
    {
     "data": {
      "text/plain": [
       "array([[1, 3],\n",
       "       [1, 1],\n",
       "       [1, 5],\n",
       "       [1, 2],\n",
       "       [1, 4]])"
      ]
     },
     "execution_count": 14,
     "metadata": {},
     "output_type": "execute_result"
    }
   ],
   "source": [
    "X= np.array([[1,3],[1,1],[1,5],[1,2],[1,4]])\n",
    "X"
   ]
  },
  {
   "cell_type": "code",
   "execution_count": 16,
   "id": "93ae4b90-734e-4f44-b0fa-68d5c54e8390",
   "metadata": {},
   "outputs": [
    {
     "data": {
      "text/plain": [
       "array([[ 5, 15],\n",
       "       [15, 55]])"
      ]
     },
     "execution_count": 16,
     "metadata": {},
     "output_type": "execute_result"
    }
   ],
   "source": [
    "XT_X= np.matmul(np.matrix.transpose(X),X)\n",
    "XT_X"
   ]
  },
  {
   "cell_type": "code",
   "execution_count": 18,
   "id": "54c741d3-3b79-4eb0-bf45-3516efbad5c9",
   "metadata": {},
   "outputs": [
    {
     "data": {
      "text/plain": [
       "array([[ 1.1, -0.3],\n",
       "       [-0.3,  0.1]])"
      ]
     },
     "execution_count": 18,
     "metadata": {},
     "output_type": "execute_result"
    }
   ],
   "source": [
    "XT_X_inv= np.linalg.inv(XT_X)\n",
    "XT_X_inv"
   ]
  },
  {
   "cell_type": "code",
   "execution_count": 20,
   "id": "4ef464ac-da35-47a6-98f6-18a90ca89606",
   "metadata": {},
   "outputs": [
    {
     "data": {
      "text/plain": [
       "array([[20],\n",
       "       [76]])"
      ]
     },
     "execution_count": 20,
     "metadata": {},
     "output_type": "execute_result"
    }
   ],
   "source": [
    "XT_Y= np.matmul(np.matrix.transpose(X),Y)\n",
    "XT_Y"
   ]
  },
  {
   "cell_type": "code",
   "execution_count": 24,
   "id": "f4fd895c-6d35-4039-aa06-56bb05b06263",
   "metadata": {},
   "outputs": [
    {
     "data": {
      "text/plain": [
       "array([[-0.8],\n",
       "       [ 1.6]])"
      ]
     },
     "execution_count": 24,
     "metadata": {},
     "output_type": "execute_result"
    }
   ],
   "source": [
    "betas= np.matmul(XT_X_inv,XT_Y)\n",
    "betas"
   ]
  },
  {
   "cell_type": "code",
   "execution_count": 28,
   "id": "4fd2dc61-aeb6-4188-8f48-64f0bd3a7e51",
   "metadata": {},
   "outputs": [
    {
     "data": {
      "text/plain": [
       "array([[4. ],\n",
       "       [0.8],\n",
       "       [7.2],\n",
       "       [2.4],\n",
       "       [5.6]])"
      ]
     },
     "execution_count": 28,
     "metadata": {},
     "output_type": "execute_result"
    }
   ],
   "source": [
    "# Cálculo de Y s Pronosticadas\n",
    "Y_Pred= np.matmul(X,betas)\n",
    "Y_Pred"
   ]
  },
  {
   "cell_type": "code",
   "execution_count": 30,
   "id": "8cb8765b-2b8b-4b88-a9dd-50bec09ff6fb",
   "metadata": {},
   "outputs": [
    {
     "data": {
      "text/plain": [
       "array([[-1. ],\n",
       "       [ 0.2],\n",
       "       [ 0.8],\n",
       "       [ 0.6],\n",
       "       [-0.6]])"
      ]
     },
     "execution_count": 30,
     "metadata": {},
     "output_type": "execute_result"
    }
   ],
   "source": [
    "# Cálculo de residuales\n",
    "Resid= Y-Y_Pred\n",
    "Resid"
   ]
  },
  {
   "cell_type": "code",
   "execution_count": 32,
   "id": "0f94ea0a-66fd-4a83-aaa2-52d2ee7fd5e0",
   "metadata": {},
   "outputs": [
    {
     "data": {
      "text/plain": [
       "array([[2.4]])"
      ]
     },
     "execution_count": 32,
     "metadata": {},
     "output_type": "execute_result"
    }
   ],
   "source": [
    "# Cálculo de sumas de residuales al cuadrado\n",
    "RSS= np.matmul(np.matrix.transpose(Resid), Resid)\n",
    "RSS"
   ]
  },
  {
   "cell_type": "code",
   "execution_count": 34,
   "id": "6ad85895-845e-402c-97cb-2f33a53e5b07",
   "metadata": {},
   "outputs": [
    {
     "data": {
      "text/plain": [
       "array([[28.]])"
      ]
     },
     "execution_count": 34,
     "metadata": {},
     "output_type": "execute_result"
    }
   ],
   "source": [
    "#Cálculo de la suma total de cuadrados\n",
    "TSS= np.matmul(np.matrix.transpose(Y),Y)-len(Y)*(Y.mean()**2)\n",
    "TSS"
   ]
  },
  {
   "cell_type": "code",
   "execution_count": 36,
   "id": "1ce4b71a-cac1-415d-af0d-a46e53ef97df",
   "metadata": {},
   "outputs": [
    {
     "data": {
      "text/plain": [
       "0.9142857142857144"
      ]
     },
     "execution_count": 36,
     "metadata": {},
     "output_type": "execute_result"
    }
   ],
   "source": [
    "# Cálculo del coefiiente de determinación\n",
    "R_cuadr= float(1-(RSS/TSS))\n",
    "R_cuadr"
   ]
  },
  {
   "cell_type": "code",
   "execution_count": 40,
   "id": "5d430303-fd00-4d78-9c20-8d0d62cb652b",
   "metadata": {},
   "outputs": [
    {
     "data": {
      "text/plain": [
       "0.8857142857142858"
      ]
     },
     "execution_count": 40,
     "metadata": {},
     "output_type": "execute_result"
    }
   ],
   "source": [
    "# Cálculo del coefiiente de determinación ajustada\n",
    "R2_ajus= float(1-((RSS/(X.shape[0]-X.shape[1]))/(TSS/(X.shape[0]-1))))\n",
    "R2_ajus"
   ]
  },
  {
   "cell_type": "code",
   "execution_count": 48,
   "id": "c473390d-26b8-4d2a-bbdf-47c20e5fe507",
   "metadata": {},
   "outputs": [
    {
     "data": {
      "text/plain": [
       "array([[0.8]])"
      ]
     },
     "execution_count": 48,
     "metadata": {},
     "output_type": "execute_result"
    }
   ],
   "source": [
    "# Varianza del error\n",
    "s_cuad= RSS/(len(Y)-X.shape[1])\n",
    "s_cuad"
   ]
  },
  {
   "cell_type": "code",
   "execution_count": 50,
   "id": "39d1ab43-f15b-4153-b69a-77ff9a2bcf31",
   "metadata": {},
   "outputs": [
    {
     "data": {
      "text/plain": [
       "0.8944271909999157"
      ]
     },
     "execution_count": 50,
     "metadata": {},
     "output_type": "execute_result"
    }
   ],
   "source": [
    "# Desviación\n",
    "import math\n",
    "s=math.sqrt(s_cuad)\n",
    "s"
   ]
  },
  {
   "cell_type": "code",
   "execution_count": 52,
   "id": "76a5aeb6-082b-4350-b025-3a05a913204c",
   "metadata": {},
   "outputs": [
    {
     "data": {
      "text/plain": [
       "3.182446305284263"
      ]
     },
     "execution_count": 52,
     "metadata": {},
     "output_type": "execute_result"
    }
   ],
   "source": [
    "# Obtención del valor crítico de la t de student\n",
    "import scipy.stats\n",
    "\n",
    "# Grado de libertad (número de observaciones - némero de variables +1) n-(k+1)\n",
    "grados_libertad= len(Y)-X.shape[1]\n",
    "Confianza= .95\n",
    "q= (1-Confianza)/2\n",
    "t_critico= abs(scipy.stats.t.ppf(q, df=grados_libertad))\n",
    "t_critico"
   ]
  },
  {
   "cell_type": "code",
   "execution_count": 54,
   "id": "18b4f662-6863-4202-95ea-b64d94c9dcd4",
   "metadata": {},
   "outputs": [
    {
     "data": {
      "text/plain": [
       "array([[1],\n",
       "       [7]])"
      ]
     },
     "execution_count": 54,
     "metadata": {},
     "output_type": "execute_result"
    }
   ],
   "source": [
    "# Vector de valores particulares de X (1 es por el intercepto y 7 es el valor que tendría X para pronosticaqr Y\n",
    "f=np.array([[1],[7]])\n",
    "f"
   ]
  },
  {
   "cell_type": "code",
   "execution_count": 58,
   "id": "c64d4320-dc93-440c-b590-bc9c19091f38",
   "metadata": {},
   "outputs": [
    {
     "data": {
      "text/plain": [
       "3.818935566341115"
      ]
     },
     "execution_count": 58,
     "metadata": {},
     "output_type": "execute_result"
    }
   ],
   "source": [
    "Margen_error= t_critico*(s*(float(np.matmul(np.matmul(np.matrix.transpose(f), XT_X_inv),f))**.5))\n",
    "Margen_error"
   ]
  },
  {
   "cell_type": "code",
   "execution_count": 62,
   "id": "728c1598-f580-417d-9587-a6ce57195c80",
   "metadata": {},
   "outputs": [
    {
     "data": {
      "text/plain": [
       "10.400000000000006"
      ]
     },
     "execution_count": 62,
     "metadata": {},
     "output_type": "execute_result"
    }
   ],
   "source": [
    "# Pronostico Y con X =7\n",
    "Pron_puntual= float(np.matmul(np.matrix.transpose(f),betas))\n",
    "Pron_puntual"
   ]
  },
  {
   "cell_type": "code",
   "execution_count": 64,
   "id": "c1c15548-99e2-4a2b-a52c-148ac96b465a",
   "metadata": {},
   "outputs": [
    {
     "name": "stdout",
     "output_type": "stream",
     "text": [
      "intervalos de confianza:,( 6.581064433658891 , 14.21893556634112 )\n"
     ]
    }
   ],
   "source": [
    "# Límites del  intervalo de confianza\n",
    "# cuando x=7 Y va a estar en un intervalo ente 6.58 y 14.21 con un 95% de confianza\n",
    "\n",
    "lim_inf= Pron_puntual-Margen_error\n",
    "lim_sup= Pron_puntual+Margen_error\n",
    "print(\"intervalos de confianza:,(\",lim_inf,\",\",lim_sup, \")\")"
   ]
  },
  {
   "cell_type": "markdown",
   "id": "cd9a8c47-f73a-446b-85e0-758cdb51427d",
   "metadata": {},
   "source": [
    "# Validación de supuestos de regresión"
   ]
  },
  {
   "cell_type": "markdown",
   "id": "3c4bfe98-7fe8-411f-a05c-95ea927f2403",
   "metadata": {},
   "source": [
    "# Supuesto 1 Jarque Bera"
   ]
  },
  {
   "cell_type": "code",
   "execution_count": 69,
   "id": "e35c92a2-3a61-4e5b-a4ba-60c1f67cc525",
   "metadata": {},
   "outputs": [
    {
     "data": {
      "text/plain": [
       "array([[-1. ],\n",
       "       [ 0.2],\n",
       "       [ 0.8],\n",
       "       [ 0.6],\n",
       "       [-0.6]])"
      ]
     },
     "execution_count": 69,
     "metadata": {},
     "output_type": "execute_result"
    }
   ],
   "source": [
    "import scipy\n",
    "Resid"
   ]
  },
  {
   "cell_type": "code",
   "execution_count": 71,
   "id": "05ff2024-54f3-407d-9175-f1645bc49ddd",
   "metadata": {},
   "outputs": [
    {
     "data": {
      "text/plain": [
       "-0.2886751345948135"
      ]
     },
     "execution_count": 71,
     "metadata": {},
     "output_type": "execute_result"
    }
   ],
   "source": [
    "# Cálculo de la asimetría de los residuales\n",
    "skew=float(scipy.stats.skew(Resid,bias=True))\n",
    "skew"
   ]
  },
  {
   "cell_type": "code",
   "execution_count": 75,
   "id": "795d549f-b0dc-4803-9869-075cbda49112",
   "metadata": {},
   "outputs": [
    {
     "data": {
      "text/plain": [
       "1.4499999999999993"
      ]
     },
     "execution_count": 75,
     "metadata": {},
     "output_type": "execute_result"
    }
   ],
   "source": [
    "# Cálculo de la curtosis de residuales (se le pone false para que funcione con el estadístico Jarque Bera)\n",
    "Kurtosis= float(scipy.stats.kurtosis(Resid,fisher=False))\n",
    "Kurtosis"
   ]
  },
  {
   "cell_type": "code",
   "execution_count": 77,
   "id": "c20ee7ed-e40b-4ef1-91b4-f42a01047606",
   "metadata": {},
   "outputs": [
    {
     "data": {
      "text/plain": [
       "0.5699652777777785"
      ]
     },
     "execution_count": 77,
     "metadata": {},
     "output_type": "execute_result"
    }
   ],
   "source": [
    "# Estadístico Jarque Bera\n",
    "\n",
    "Jarque_bera= (len(Y)/6*(skew**2+(Kurtosis-3)**2/4))\n",
    "Jarque_bera\n",
    "              "
   ]
  },
  {
   "cell_type": "code",
   "execution_count": 79,
   "id": "f929acc8-18b3-4db3-9207-b4515a4e415f",
   "metadata": {},
   "outputs": [
    {
     "data": {
      "text/plain": [
       "5.991464547107979"
      ]
     },
     "execution_count": 79,
     "metadata": {},
     "output_type": "execute_result"
    }
   ],
   "source": [
    "Nivel_confianza=.95\n",
    "scipy.stats.chi2.ppf(Nivel_confianza, df=2)"
   ]
  },
  {
   "cell_type": "markdown",
   "id": "f32d02fb-6db2-47a3-aaae-811774b7dad6",
   "metadata": {},
   "source": [
    "### Conclusión: dado que el estadistico Jarque Bera no es mayor al nivel crítico 5.99, no podemos rechazar la hipótesis de existencia de normalidad en los residuales"
   ]
  },
  {
   "cell_type": "markdown",
   "id": "9d1cde1e-f506-4ece-9f2f-8076a86c67a2",
   "metadata": {},
   "source": [
    "# Supuesto 2: Inexistencia de autocorrelación entre residuales"
   ]
  },
  {
   "cell_type": "code",
   "execution_count": 90,
   "id": "254d1a3f-30d1-44fb-8262-9c796f0573f9",
   "metadata": {},
   "outputs": [],
   "source": [
    "from statsmodels.formula.api import ols"
   ]
  },
  {
   "cell_type": "code",
   "execution_count": 98,
   "id": "e373bba5-65ca-4b85-a7bc-730f6ef552f3",
   "metadata": {},
   "outputs": [
    {
     "data": {
      "text/html": [
       "<div>\n",
       "<style scoped>\n",
       "    .dataframe tbody tr th:only-of-type {\n",
       "        vertical-align: middle;\n",
       "    }\n",
       "\n",
       "    .dataframe tbody tr th {\n",
       "        vertical-align: top;\n",
       "    }\n",
       "\n",
       "    .dataframe thead th {\n",
       "        text-align: right;\n",
       "    }\n",
       "</style>\n",
       "<table border=\"1\" class=\"dataframe\">\n",
       "  <thead>\n",
       "    <tr style=\"text-align: right;\">\n",
       "      <th></th>\n",
       "      <th>0</th>\n",
       "    </tr>\n",
       "  </thead>\n",
       "  <tbody>\n",
       "    <tr>\n",
       "      <th>0</th>\n",
       "      <td>3</td>\n",
       "    </tr>\n",
       "    <tr>\n",
       "      <th>1</th>\n",
       "      <td>1</td>\n",
       "    </tr>\n",
       "    <tr>\n",
       "      <th>2</th>\n",
       "      <td>5</td>\n",
       "    </tr>\n",
       "    <tr>\n",
       "      <th>3</th>\n",
       "      <td>2</td>\n",
       "    </tr>\n",
       "    <tr>\n",
       "      <th>4</th>\n",
       "      <td>4</td>\n",
       "    </tr>\n",
       "  </tbody>\n",
       "</table>\n",
       "</div>"
      ],
      "text/plain": [
       "   0\n",
       "0  3\n",
       "1  1\n",
       "2  5\n",
       "3  2\n",
       "4  4"
      ]
     },
     "execution_count": 98,
     "metadata": {},
     "output_type": "execute_result"
    }
   ],
   "source": [
    "# Sin intercepto la X\n",
    "y_df= pd.DataFrame(Y)\n",
    "x_df=pd.DataFrame(X[:,1:2])\n",
    "x_df"
   ]
  },
  {
   "cell_type": "code",
   "execution_count": 106,
   "id": "9c9ab7c5-4a7e-4582-924e-ac58d874e6d1",
   "metadata": {},
   "outputs": [
    {
     "data": {
      "text/html": [
       "<div>\n",
       "<style scoped>\n",
       "    .dataframe tbody tr th:only-of-type {\n",
       "        vertical-align: middle;\n",
       "    }\n",
       "\n",
       "    .dataframe tbody tr th {\n",
       "        vertical-align: top;\n",
       "    }\n",
       "\n",
       "    .dataframe thead th {\n",
       "        text-align: right;\n",
       "    }\n",
       "</style>\n",
       "<table border=\"1\" class=\"dataframe\">\n",
       "  <thead>\n",
       "    <tr style=\"text-align: right;\">\n",
       "      <th></th>\n",
       "      <th>0</th>\n",
       "    </tr>\n",
       "  </thead>\n",
       "  <tbody>\n",
       "    <tr>\n",
       "      <th>0</th>\n",
       "      <td>3</td>\n",
       "    </tr>\n",
       "    <tr>\n",
       "      <th>1</th>\n",
       "      <td>1</td>\n",
       "    </tr>\n",
       "    <tr>\n",
       "      <th>2</th>\n",
       "      <td>8</td>\n",
       "    </tr>\n",
       "    <tr>\n",
       "      <th>3</th>\n",
       "      <td>3</td>\n",
       "    </tr>\n",
       "    <tr>\n",
       "      <th>4</th>\n",
       "      <td>5</td>\n",
       "    </tr>\n",
       "  </tbody>\n",
       "</table>\n",
       "</div>"
      ],
      "text/plain": [
       "   0\n",
       "0  3\n",
       "1  1\n",
       "2  8\n",
       "3  3\n",
       "4  5"
      ]
     },
     "execution_count": 106,
     "metadata": {},
     "output_type": "execute_result"
    }
   ],
   "source": [
    "y_df"
   ]
  },
  {
   "cell_type": "code",
   "execution_count": 104,
   "id": "9eb5f282-66a3-4803-865a-092273e8113e",
   "metadata": {},
   "outputs": [
    {
     "data": {
      "text/html": [
       "<div>\n",
       "<style scoped>\n",
       "    .dataframe tbody tr th:only-of-type {\n",
       "        vertical-align: middle;\n",
       "    }\n",
       "\n",
       "    .dataframe tbody tr th {\n",
       "        vertical-align: top;\n",
       "    }\n",
       "\n",
       "    .dataframe thead th {\n",
       "        text-align: right;\n",
       "    }\n",
       "</style>\n",
       "<table border=\"1\" class=\"dataframe\">\n",
       "  <thead>\n",
       "    <tr style=\"text-align: right;\">\n",
       "      <th></th>\n",
       "      <th>Y</th>\n",
       "      <th>X1</th>\n",
       "    </tr>\n",
       "  </thead>\n",
       "  <tbody>\n",
       "    <tr>\n",
       "      <th>0</th>\n",
       "      <td>3</td>\n",
       "      <td>3</td>\n",
       "    </tr>\n",
       "    <tr>\n",
       "      <th>1</th>\n",
       "      <td>1</td>\n",
       "      <td>1</td>\n",
       "    </tr>\n",
       "    <tr>\n",
       "      <th>2</th>\n",
       "      <td>8</td>\n",
       "      <td>5</td>\n",
       "    </tr>\n",
       "    <tr>\n",
       "      <th>3</th>\n",
       "      <td>3</td>\n",
       "      <td>2</td>\n",
       "    </tr>\n",
       "    <tr>\n",
       "      <th>4</th>\n",
       "      <td>5</td>\n",
       "      <td>4</td>\n",
       "    </tr>\n",
       "  </tbody>\n",
       "</table>\n",
       "</div>"
      ],
      "text/plain": [
       "   Y  X1\n",
       "0  3   3\n",
       "1  1   1\n",
       "2  8   5\n",
       "3  3   2\n",
       "4  5   4"
      ]
     },
     "execution_count": 104,
     "metadata": {},
     "output_type": "execute_result"
    }
   ],
   "source": [
    "df= pd.concat([y_df,x_df.reindex(y_df.index)],axis=1)\n",
    "df.columns=[\"Y\",\"X1\"]\n",
    "df"
   ]
  },
  {
   "cell_type": "code",
   "execution_count": 120,
   "id": "4f7c6d33-fcba-4c2c-bd66-2ed5b3be7308",
   "metadata": {},
   "outputs": [
    {
     "data": {
      "text/plain": [
       "1.3666666666666656"
      ]
     },
     "execution_count": 120,
     "metadata": {},
     "output_type": "execute_result"
    }
   ],
   "source": [
    "#Ajuste de regresión lineal múltiple (sí hay más variable independientes se pone X1+X2+X3....ETC\n",
    "model=ols('Y ~ X1',data=df).fit()\n",
    "\n",
    "from statsmodels.stats.stattools import durbin_watson\n",
    "\n",
    "#Prueba de durbin_watson\n",
    "durbin_watson(model.resid)"
   ]
  },
  {
   "cell_type": "markdown",
   "id": "c86dca67-8863-4923-94bd-53524aa07a8d",
   "metadata": {},
   "source": [
    "### Conclusión: dado que durbin watson no es aprox. igual a 2, podemos pensar que existe autocorrelación entre los residuales\n",
    "### no es bueno, ya que los intervalos de confianza no son tan confiables"
   ]
  },
  {
   "cell_type": "markdown",
   "id": "a9d978d3-07e8-4d27-a7ce-49b8a2407ed4",
   "metadata": {},
   "source": [
    "# Supuesto 3: Homocedasticidad (igualdad de varianzas)\n",
    "# también afecta las confiabilidad de los intervalos de confianza"
   ]
  },
  {
   "cell_type": "code",
   "execution_count": 130,
   "id": "7651e5c4-87c7-4c26-9358-85725e597a41",
   "metadata": {},
   "outputs": [
    {
     "data": {
      "text/html": [
       "<div>\n",
       "<style scoped>\n",
       "    .dataframe tbody tr th:only-of-type {\n",
       "        vertical-align: middle;\n",
       "    }\n",
       "\n",
       "    .dataframe tbody tr th {\n",
       "        vertical-align: top;\n",
       "    }\n",
       "\n",
       "    .dataframe thead th {\n",
       "        text-align: right;\n",
       "    }\n",
       "</style>\n",
       "<table border=\"1\" class=\"dataframe\">\n",
       "  <thead>\n",
       "    <tr style=\"text-align: right;\">\n",
       "      <th></th>\n",
       "      <th>0</th>\n",
       "    </tr>\n",
       "  </thead>\n",
       "  <tbody>\n",
       "    <tr>\n",
       "      <th>0</th>\n",
       "      <td>1.00</td>\n",
       "    </tr>\n",
       "    <tr>\n",
       "      <th>1</th>\n",
       "      <td>0.04</td>\n",
       "    </tr>\n",
       "    <tr>\n",
       "      <th>2</th>\n",
       "      <td>0.64</td>\n",
       "    </tr>\n",
       "    <tr>\n",
       "      <th>3</th>\n",
       "      <td>0.36</td>\n",
       "    </tr>\n",
       "    <tr>\n",
       "      <th>4</th>\n",
       "      <td>0.36</td>\n",
       "    </tr>\n",
       "  </tbody>\n",
       "</table>\n",
       "</div>"
      ],
      "text/plain": [
       "      0\n",
       "0  1.00\n",
       "1  0.04\n",
       "2  0.64\n",
       "3  0.36\n",
       "4  0.36"
      ]
     },
     "execution_count": 130,
     "metadata": {},
     "output_type": "execute_result"
    }
   ],
   "source": [
    "ResidCuac=Resid**2\n",
    "ResidCuac=pd.DataFrame(ResidCuac)\n",
    "ResidCuac"
   ]
  },
  {
   "cell_type": "code",
   "execution_count": 146,
   "id": "aee88447-35bd-4cca-b4e9-fc4a46d914a5",
   "metadata": {},
   "outputs": [],
   "source": [
    "X1=df.iloc[:,1]\n",
    "X1_df=pd.DataFrame(X1)\n",
    "\n",
    "X1Cuad= X1**2\n",
    "X1Cuad_df=pd.DataFrame(X1Cuad)"
   ]
  },
  {
   "cell_type": "code",
   "execution_count": 148,
   "id": "9bd8b58f-79c9-4dae-b676-8e4042042a2f",
   "metadata": {},
   "outputs": [
    {
     "data": {
      "text/html": [
       "<div>\n",
       "<style scoped>\n",
       "    .dataframe tbody tr th:only-of-type {\n",
       "        vertical-align: middle;\n",
       "    }\n",
       "\n",
       "    .dataframe tbody tr th {\n",
       "        vertical-align: top;\n",
       "    }\n",
       "\n",
       "    .dataframe thead th {\n",
       "        text-align: right;\n",
       "    }\n",
       "</style>\n",
       "<table border=\"1\" class=\"dataframe\">\n",
       "  <thead>\n",
       "    <tr style=\"text-align: right;\">\n",
       "      <th></th>\n",
       "      <th>Residual</th>\n",
       "      <th>X1</th>\n",
       "      <th>X1Cuad</th>\n",
       "    </tr>\n",
       "  </thead>\n",
       "  <tbody>\n",
       "    <tr>\n",
       "      <th>0</th>\n",
       "      <td>1.00</td>\n",
       "      <td>3</td>\n",
       "      <td>9</td>\n",
       "    </tr>\n",
       "    <tr>\n",
       "      <th>1</th>\n",
       "      <td>0.04</td>\n",
       "      <td>1</td>\n",
       "      <td>1</td>\n",
       "    </tr>\n",
       "    <tr>\n",
       "      <th>2</th>\n",
       "      <td>0.64</td>\n",
       "      <td>5</td>\n",
       "      <td>25</td>\n",
       "    </tr>\n",
       "    <tr>\n",
       "      <th>3</th>\n",
       "      <td>0.36</td>\n",
       "      <td>2</td>\n",
       "      <td>4</td>\n",
       "    </tr>\n",
       "    <tr>\n",
       "      <th>4</th>\n",
       "      <td>0.36</td>\n",
       "      <td>4</td>\n",
       "      <td>16</td>\n",
       "    </tr>\n",
       "  </tbody>\n",
       "</table>\n",
       "</div>"
      ],
      "text/plain": [
       "   Residual  X1  X1Cuad\n",
       "0      1.00   3       9\n",
       "1      0.04   1       1\n",
       "2      0.64   5      25\n",
       "3      0.36   2       4\n",
       "4      0.36   4      16"
      ]
     },
     "execution_count": 148,
     "metadata": {},
     "output_type": "execute_result"
    }
   ],
   "source": [
    "df_Aux=pd.concat([ResidCuac,X1_df.reindex(y_df.index),X1Cuad_df.reindex(y_df.index)],axis=1)\n",
    "df_Aux.columns=[\"Residual\",\"X1\",\"X1Cuad\"]\n",
    "df_Aux"
   ]
  },
  {
   "cell_type": "code",
   "execution_count": 150,
   "id": "6ac6e839-3b15-4c92-b768-170c64ec1c98",
   "metadata": {},
   "outputs": [
    {
     "data": {
      "text/plain": [
       "0.5326278659612038"
      ]
     },
     "execution_count": 150,
     "metadata": {},
     "output_type": "execute_result"
    }
   ],
   "source": [
    "# Ajuste de regresión lineal múltiple\n",
    "modelAux= ols(\"Residual ~ X1 + X1Cuad\", data=df_Aux).fit()\n",
    "RsqAux=modelAux.rsquared\n",
    "RsqAux"
   ]
  },
  {
   "cell_type": "code",
   "execution_count": 152,
   "id": "eeab3d27-bdc4-4395-8cda-5f6a630754e0",
   "metadata": {},
   "outputs": [
    {
     "data": {
      "text/plain": [
       "2.663139329806019"
      ]
     },
     "execution_count": 152,
     "metadata": {},
     "output_type": "execute_result"
    }
   ],
   "source": [
    "Estadistico=len(Y)*RsqAux\n",
    "Estadistico"
   ]
  },
  {
   "cell_type": "code",
   "execution_count": 154,
   "id": "f7339494-da9e-4053-b558-b64e14276345",
   "metadata": {},
   "outputs": [
    {
     "data": {
      "text/plain": [
       "5.991464547107979"
      ]
     },
     "execution_count": 154,
     "metadata": {},
     "output_type": "execute_result"
    }
   ],
   "source": [
    "Nivel_confianza=.95\n",
    "scipy.stats.chi2.ppf(Nivel_confianza, df=2)"
   ]
  },
  {
   "cell_type": "markdown",
   "id": "511f3f6e-4e43-4163-8eef-bf018eed4452",
   "metadata": {},
   "source": [
    "### Conclusión: al no superar el valor crítico (5.99) nuestro estadístico (2.66), no hay evidencia de Heterocedasticidad (desigualdad de varianza de los residuales)"
   ]
  },
  {
   "cell_type": "code",
   "execution_count": 160,
   "id": "086c5b2f-372d-4121-978d-0011877b2077",
   "metadata": {},
   "outputs": [
    {
     "name": "stdout",
     "output_type": "stream",
     "text": [
      "Estadístico de White 2.66313932980599\n",
      "Valor p 0.26406244627058784\n"
     ]
    }
   ],
   "source": [
    "# Alternativa para prueba White con Python (al ser el valor de p mayor al 5%, no se puede rechazar la hipótesis nula de que hay homocedastiidad\n",
    "\n",
    "from statsmodels.stats.diagnostic import het_white\n",
    "white_test=het_white(model.resid,model.model.exog)\n",
    "print(\"Estadístico de White\", white_test[0])\n",
    "print(\"Valor p\", white_test[1])"
   ]
  },
  {
   "cell_type": "markdown",
   "id": "89eee0dc-9f8b-4d8f-85a4-e0c13c376370",
   "metadata": {},
   "source": [
    "### Conclusión: a un nivel de alpha de 5%  como tenemos un valor de p superior a alpha, no podemos rechazar la hipótesis de homocedasticidad (lo cual implica que no existe evidencia de lo contrario (heterocedasticidad)"
   ]
  },
  {
   "cell_type": "markdown",
   "id": "5c277e53-3fff-4ae2-b104-91d1db7a7588",
   "metadata": {},
   "source": [
    "# Supuesto 4: inexistencia de Multicolinealidad (sólo se puede a partir de 2 variables"
   ]
  },
  {
   "cell_type": "markdown",
   "id": "29dc123a-2aab-4759-b48d-03d7da9c2617",
   "metadata": {},
   "source": [
    "### en este caso no aplica realizarla, ya que sólo tenemos una variable regresora (X1). En modelos con más variables independientes sí habría que realizarla"
   ]
  },
  {
   "cell_type": "code",
   "execution_count": null,
   "id": "e858ee4b-fa3d-4edd-8089-eb079df827d1",
   "metadata": {},
   "outputs": [],
   "source": []
  }
 ],
 "metadata": {
  "kernelspec": {
   "display_name": "Python [conda env:Orange]",
   "language": "python",
   "name": "conda-env-Orange-py"
  },
  "language_info": {
   "codemirror_mode": {
    "name": "ipython",
    "version": 3
   },
   "file_extension": ".py",
   "mimetype": "text/x-python",
   "name": "python",
   "nbconvert_exporter": "python",
   "pygments_lexer": "ipython3",
   "version": "3.11.8"
  }
 },
 "nbformat": 4,
 "nbformat_minor": 5
}
