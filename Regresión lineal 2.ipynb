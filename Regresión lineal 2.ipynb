{
 "cells": [
  {
   "cell_type": "code",
   "execution_count": 4,
   "id": "1f9ee4cd-f5cd-4914-ad90-2d6ecbe9408f",
   "metadata": {},
   "outputs": [],
   "source": [
    "import pandas as pd\n",
    "import numpy as np\n",
    "import warnings\n",
    "warnings.filterwarnings(\"ignore\")"
   ]
  },
  {
   "cell_type": "markdown",
   "id": "5a6b4b4d-8b36-4b12-b842-04444e624597",
   "metadata": {},
   "source": [
    "# Nota: para este caso asumiremos que los datos de entrenamiento son sobre los que trabajaremos"
   ]
  },
  {
   "cell_type": "code",
   "execution_count": 32,
   "id": "7d27c2da-4370-4e6e-80ef-a608ac398844",
   "metadata": {},
   "outputs": [
    {
     "data": {
      "text/plain": [
       "array([[3],\n",
       "       [1],\n",
       "       [8],\n",
       "       [3],\n",
       "       [5]])"
      ]
     },
     "execution_count": 32,
     "metadata": {},
     "output_type": "execute_result"
    }
   ],
   "source": [
    "Y= np.array([[3],[1],[8],[3],[5]])\n",
    "Y"
   ]
  },
  {
   "cell_type": "code",
   "execution_count": 26,
   "id": "8da4cd31-f33f-45a9-ab7e-d07f9aaa71ec",
   "metadata": {},
   "outputs": [
    {
     "data": {
      "text/plain": [
       "array([[1, 3, 5],\n",
       "       [1, 1, 4],\n",
       "       [1, 5, 6],\n",
       "       [1, 2, 4],\n",
       "       [1, 4, 6]])"
      ]
     },
     "execution_count": 26,
     "metadata": {},
     "output_type": "execute_result"
    }
   ],
   "source": [
    "X=np.array([[1,3,5],[1,1,4],[1,5,6],[1,2,4],[1,4,6]])\n",
    "X"
   ]
  },
  {
   "cell_type": "code",
   "execution_count": 16,
   "id": "3afc8f33-1b07-4e9c-a2fe-018deec94d03",
   "metadata": {},
   "outputs": [
    {
     "data": {
      "text/plain": [
       "array([[  5,  15,  25],\n",
       "       [ 15,  55,  81],\n",
       "       [ 25,  81, 129]])"
      ]
     },
     "execution_count": 16,
     "metadata": {},
     "output_type": "execute_result"
    }
   ],
   "source": [
    "XT_X= np.matmul(np.matrix.transpose(X),X)\n",
    "XT_X"
   ]
  },
  {
   "cell_type": "code",
   "execution_count": 18,
   "id": "1181b002-a6d5-4c26-ac5b-bc7e2e95b817",
   "metadata": {},
   "outputs": [
    {
     "data": {
      "text/plain": [
       "array([[26.7,  4.5, -8. ],\n",
       "       [ 4.5,  1. , -1.5],\n",
       "       [-8. , -1.5,  2.5]])"
      ]
     },
     "execution_count": 18,
     "metadata": {},
     "output_type": "execute_result"
    }
   ],
   "source": [
    "# Estos resultados son las cii (formulas libreta) en este caso se va a usar el 26.7 el 1 y el 2.5, ya que sólo se usan los elementos de la diagonal principal\n",
    "XT_X_inv= np.linalg.inv(XT_X)\n",
    "XT_X_inv"
   ]
  },
  {
   "cell_type": "code",
   "execution_count": 34,
   "id": "8e4fb274-ee87-4d6d-82da-428e90177e83",
   "metadata": {},
   "outputs": [
    {
     "data": {
      "text/plain": [
       "array([[ 20],\n",
       "       [ 76],\n",
       "       [109]])"
      ]
     },
     "execution_count": 34,
     "metadata": {},
     "output_type": "execute_result"
    }
   ],
   "source": [
    "XT_Y= np.matmul(np.matrix.transpose(X),Y)\n",
    "XT_Y"
   ]
  },
  {
   "cell_type": "code",
   "execution_count": 36,
   "id": "a73251fb-2c42-49bc-b3fb-40b1290120e3",
   "metadata": {},
   "outputs": [
    {
     "data": {
      "text/plain": [
       "array([[ 4. ],\n",
       "       [ 2.5],\n",
       "       [-1.5]])"
      ]
     },
     "execution_count": 36,
     "metadata": {},
     "output_type": "execute_result"
    }
   ],
   "source": [
    "betas= np.matmul( XT_X_inv,XT_Y)\n",
    "betas"
   ]
  },
  {
   "cell_type": "code",
   "execution_count": 38,
   "id": "64e6c5e7-a537-46ed-b2c5-49194ebaccc6",
   "metadata": {},
   "outputs": [
    {
     "data": {
      "text/plain": [
       "array([[4. ],\n",
       "       [0.5],\n",
       "       [7.5],\n",
       "       [3. ],\n",
       "       [5. ]])"
      ]
     },
     "execution_count": 38,
     "metadata": {},
     "output_type": "execute_result"
    }
   ],
   "source": [
    "# Cálculo pronosticos de \"Y\" de acuerdo a los coeficientes de regresión\n",
    "\n",
    "Y_pred= np.matmul(X,betas)\n",
    "Y_pred"
   ]
  },
  {
   "cell_type": "code",
   "execution_count": 40,
   "id": "70824d28-d49b-4d0d-b7a5-a6841aaabdec",
   "metadata": {},
   "outputs": [
    {
     "data": {
      "text/plain": [
       "array([[-1.00000000e+00],\n",
       "       [ 5.00000000e-01],\n",
       "       [ 5.00000000e-01],\n",
       "       [-1.33226763e-13],\n",
       "       [-1.64313008e-13]])"
      ]
     },
     "execution_count": 40,
     "metadata": {},
     "output_type": "execute_result"
    }
   ],
   "source": [
    "# calculo residuales\n",
    "\n",
    "Resid= Y-Y_pred\n",
    "Resid"
   ]
  },
  {
   "cell_type": "code",
   "execution_count": 42,
   "id": "5b41dec9-e3f2-4c9f-945d-da73395d7a0b",
   "metadata": {},
   "outputs": [],
   "source": [
    "# Opciones de formato numérico para que no se vuelva anotación científica y sí aparezcan decimales\n",
    "\n",
    "np.set_printoptions(formatter={\"float_kind\":\"{:f}\".format})"
   ]
  },
  {
   "cell_type": "code",
   "execution_count": 44,
   "id": "c0213963-fc2e-491e-ac9a-eb5a976f5f89",
   "metadata": {},
   "outputs": [
    {
     "data": {
      "text/plain": [
       "array([[-1.000000],\n",
       "       [0.500000],\n",
       "       [0.500000],\n",
       "       [-0.000000],\n",
       "       [-0.000000]])"
      ]
     },
     "execution_count": 44,
     "metadata": {},
     "output_type": "execute_result"
    }
   ],
   "source": [
    "# calculo residuales\n",
    "\n",
    "Resid= Y-Y_pred\n",
    "Resid"
   ]
  },
  {
   "cell_type": "code",
   "execution_count": 52,
   "id": "bf419fdf-797a-42dc-8d33-f5e0574eddd1",
   "metadata": {},
   "outputs": [
    {
     "data": {
      "text/plain": [
       "1.4999999999999991"
      ]
     },
     "execution_count": 52,
     "metadata": {},
     "output_type": "execute_result"
    }
   ],
   "source": [
    "# Cálculo de la suma de residuales al cuadrado (RSS)\n",
    "\n",
    "RSS= float(np.matmul(np.matrix.transpose(Resid),Resid))\n",
    "RSS"
   ]
  },
  {
   "cell_type": "code",
   "execution_count": 56,
   "id": "69620c42-8d70-44ac-9d11-6f3009541112",
   "metadata": {},
   "outputs": [
    {
     "data": {
      "text/plain": [
       "28.0"
      ]
     },
     "execution_count": 56,
     "metadata": {},
     "output_type": "execute_result"
    }
   ],
   "source": [
    "# Cálculo de la suma total de cuadrados los residuales (1.49999 corresponde a un pedazo muy pequeño de lo que no se puede explicar)\n",
    "# de 28 unidades no se pueden explicar 1.49999 y el resto sí\n",
    "# FLOAT para que sólo quede el número sin ser un arreglo\n",
    "TSS= float(np.matmul( np.matrix.transpose(Y),Y)-(len(Y)*( Y.mean()**2)))\n",
    "TSS"
   ]
  },
  {
   "cell_type": "code",
   "execution_count": 72,
   "id": "71cf20e3-c0ce-469d-9b54-7ce6d6026e4d",
   "metadata": {},
   "outputs": [
    {
     "data": {
      "text/plain": [
       "0.9464285714285715"
      ]
     },
     "execution_count": 72,
     "metadata": {},
     "output_type": "execute_result"
    }
   ],
   "source": [
    "# Cálculo de coeficiente de determinación r2 (R cuadrada)\n",
    "\n",
    "R2= float(1-(RSS/TSS))\n",
    "R2"
   ]
  },
  {
   "cell_type": "code",
   "execution_count": 70,
   "id": "0f0bdcea-1ce8-407d-98ac-e8fee732eca4",
   "metadata": {},
   "outputs": [
    {
     "data": {
      "text/plain": [
       "0.8928571428571429"
      ]
     },
     "execution_count": 70,
     "metadata": {},
     "output_type": "execute_result"
    }
   ],
   "source": [
    "# Cálculo de coeficiente de determinación r2 (R cuadrada ajustada)\n",
    "# No se suma +1 la K (número de columnas, ya que ya está la columna de 1 (intercepto)\n",
    "# baja, pero es más objetiva\n",
    "R2_ajus= float(1-((RSS/(X.shape[0]-X.shape[1]))/(TSS/(X.shape[0]-1))))\n",
    "R2_ajuss"
   ]
  },
  {
   "cell_type": "code",
   "execution_count": 76,
   "id": "9c13665e-8208-43b8-9098-4859699d739d",
   "metadata": {},
   "outputs": [
    {
     "data": {
      "text/plain": [
       "0.7499999999999996"
      ]
     },
     "execution_count": 76,
     "metadata": {},
     "output_type": "execute_result"
    }
   ],
   "source": [
    "# Cálculo de la varianza del error de regresión\n",
    "\n",
    "s_cuad= RSS/ (len(Y)-X.shape[1])\n",
    "s_cuad"
   ]
  },
  {
   "cell_type": "code",
   "execution_count": 78,
   "id": "6bcd1163-819d-4383-8bcf-b929258d0777",
   "metadata": {},
   "outputs": [
    {
     "data": {
      "text/plain": [
       "0.8660254037844384"
      ]
     },
     "execution_count": 78,
     "metadata": {},
     "output_type": "execute_result"
    }
   ],
   "source": [
    "# Desviación estandar del erros de regresión\n",
    "\n",
    "import math\n",
    "s= math.sqrt(s_cuad)\n",
    "s"
   ]
  },
  {
   "cell_type": "code",
   "execution_count": 82,
   "id": "7db266af-00ce-4489-80e3-575ab0357531",
   "metadata": {},
   "outputs": [
    {
     "data": {
      "text/plain": [
       "[0.893868697538675, 2.8867513459481344, -1.0954451150103264]"
      ]
     },
     "execution_count": 82,
     "metadata": {},
     "output_type": "execute_result"
    }
   ],
   "source": [
    "# Cálculo de las t estadísticas para cada coeficiente de regresión (betas)\n",
    "# aquí es donde se vuelven a usar los valores de la diagonal principal cii que se saco en XT_X_inv\n",
    "result_t=[]\n",
    "for i in range (0,X.shape[1]):\n",
    "    t= float(betas[i]/(s*math.sqrt(XT_X_inv[i][i])))\n",
    "    result_t.append(t)\n",
    "result_t"
   ]
  },
  {
   "cell_type": "markdown",
   "id": "158c3f89-986c-4dcc-98fb-57624f83f791",
   "metadata": {},
   "source": [
    "# Criterio número 1"
   ]
  },
  {
   "cell_type": "code",
   "execution_count": 89,
   "id": "1d5d4c7e-f2ba-4870-8fba-fe8d9a16756e",
   "metadata": {},
   "outputs": [
    {
     "data": {
      "text/plain": [
       "4.3026527299112765"
      ]
     },
     "execution_count": 89,
     "metadata": {},
     "output_type": "execute_result"
    }
   ],
   "source": [
    "# obtener valor crítico de la t de student\n",
    "import scipy.stats\n",
    "\n",
    "grados_libertad= len(Y)-X.shape[1]\n",
    "# la t critica se obtendra a un nivel de confianza del 95% (Alfa=5%) q=.025, ya que es la mitad del 5% en decimal\n",
    "t_critico= abs(scipy.stats.t.ppf(q=.025, df= grados_libertad))\n",
    "t_critico\n",
    "# El area arriba del valor 4.3026 debería de ser de .025 ( se puede observa si se grafica)"
   ]
  },
  {
   "cell_type": "code",
   "execution_count": 95,
   "id": "2ef8fdd1-9ee1-4956-96c1-ab139219202d",
   "metadata": {},
   "outputs": [
    {
     "name": "stdout",
     "output_type": "stream",
     "text": [
      "Beta 0 no es significativa\n",
      "Beta 1 no es significativa\n",
      "Beta 2 no es significativa\n"
     ]
    }
   ],
   "source": [
    "# abs se usa para que sea valor absoluto y no afecten números negativos\n",
    "for i in range(0, X.shape[1]):\n",
    "    if (abs(result_t[i])>t_critico):\n",
    "        print(\"Beta\",i, \"es significativa\") #Aquí se rechaza hipótesis nula HO\n",
    "    else:\n",
    "        print(\"Beta\",i,\"no es significativa\") #Aquí se  no rechaza hipótesis nula HO"
   ]
  },
  {
   "cell_type": "markdown",
   "id": "e8eae58c-653e-4c43-a371-d781f82e5386",
   "metadata": {},
   "source": [
    "# Criterio número 2"
   ]
  },
  {
   "cell_type": "code",
   "execution_count": 100,
   "id": "9dfef010-b4d1-4830-be44-0898d647e9c0",
   "metadata": {},
   "outputs": [
    {
     "name": "stdout",
     "output_type": "stream",
     "text": [
      "Valor p de Beta 0 : 0.4657159826085253\n",
      "Valor p de Beta 1 : 0.10197348986612516\n",
      "Valor p de Beta 2 : 0.38762756430420753\n"
     ]
    }
   ],
   "source": [
    "# Cálculo valores p\n",
    "# se multiplica por 2 al final ya que se están buscando el area de adelante y de atrás y al ser simétrica sí funciona\n",
    "for i in range(0,X.shape[1]):\n",
    "    print (\"Valor p de Beta\", i, \":\", scipy.stats.t.sf(abs(result_t[i]),df= grados_libertad)*2)"
   ]
  },
  {
   "cell_type": "markdown",
   "id": "fffbfe3a-f005-4e62-9ce7-53c0053f05ea",
   "metadata": {},
   "source": [
    "##### si manejamos un nivel Alpha del 5% en ninguno de los casos el valor p es menor, por lo tanto, no se puede rechazar la hipotesis nula y coincide con los primeros resultados"
   ]
  },
  {
   "cell_type": "markdown",
   "id": "d4d0d9dc-f661-4451-b12f-b49e37d8d78e",
   "metadata": {},
   "source": [
    "# criterio número 3"
   ]
  },
  {
   "cell_type": "code",
   "execution_count": 111,
   "id": "ef4d1731-a4fa-4e45-80ee-f2a339032b09",
   "metadata": {},
   "outputs": [
    {
     "name": "stdout",
     "output_type": "stream",
     "text": [
      "el valor de Beta 0 Se encuentra entre -15.25407049943233 y 23.25407049943251\n",
      "el valor de Beta 1 Se encuentra entre -1.226206567765626 y 6.226206567765638\n",
      "el valor de Beta 2 Se encuentra entre -7.391649893208962 y 4.391649893208978\n"
     ]
    }
   ],
   "source": [
    "# cálcuo de intervalos de confianza del 95% para el verdadero valor del coeficiente de cada beta (variable)\n",
    "for i in range(0, X.shape[1]):\n",
    "    print(\"el valor de Beta\", i, \"Se encuentra entre\", float(betas[i])-t_critico*s*math.sqrt(XT_X_inv[i][i]),\n",
    "          \"y\" ,float(betas[i])+t_critico*s*math.sqrt(XT_X_inv[i][i]))"
   ]
  },
  {
   "cell_type": "markdown",
   "id": "360856c2-7653-4763-9117-25440ca710ac",
   "metadata": {},
   "source": [
    "##### al si estar el 0 entre los intervalos de cada beta, no se puede garantizar que la Beta sea distinta a cero\n",
    "##### por lo tanto, no se puede rechazar la hipótesis nula, pero tampoco se puede aceptar"
   ]
  },
  {
   "cell_type": "markdown",
   "id": "8d75eb3f-d1f2-4b32-9905-75663a4e9ab9",
   "metadata": {},
   "source": [
    "# Conclusión: ninguna de las varibles independientes es significativamente distinta a cero"
   ]
  },
  {
   "cell_type": "markdown",
   "id": "35dec0e1-b72d-4419-afa4-cf53b1edd676",
   "metadata": {},
   "source": [
    "# comparación de resultados con reporte automático"
   ]
  },
  {
   "cell_type": "code",
   "execution_count": 120,
   "id": "93e69966-14d3-4b2d-9f19-a11ec98a51aa",
   "metadata": {},
   "outputs": [
    {
     "name": "stdout",
     "output_type": "stream",
     "text": [
      "                            OLS Regression Results                            \n",
      "==============================================================================\n",
      "Dep. Variable:                      y   R-squared:                       0.946\n",
      "Model:                            OLS   Adj. R-squared:                  0.893\n",
      "Method:                 Least Squares   F-statistic:                     17.67\n",
      "Date:                Thu, 29 May 2025   Prob (F-statistic):             0.0536\n",
      "Time:                        19:44:03   Log-Likelihood:                -4.0848\n",
      "No. Observations:                   5   AIC:                             14.17\n",
      "Df Residuals:                       2   BIC:                             13.00\n",
      "Df Model:                           2                                         \n",
      "Covariance Type:            nonrobust                                         \n",
      "==============================================================================\n",
      "                 coef    std err          t      P>|t|      [0.025      0.975]\n",
      "------------------------------------------------------------------------------\n",
      "const          4.0000      4.475      0.894      0.466     -15.254      23.254\n",
      "x1             2.5000      0.866      2.887      0.102      -1.226       6.226\n",
      "x2            -1.5000      1.369     -1.095      0.388      -7.392       4.392\n",
      "==============================================================================\n",
      "Omnibus:                          nan   Durbin-Watson:                   1.667\n",
      "Prob(Omnibus):                    nan   Jarque-Bera (JB):                0.747\n",
      "Skew:                          -0.913   Prob(JB):                        0.688\n",
      "Kurtosis:                       2.500   Cond. No.                         74.5\n",
      "==============================================================================\n",
      "\n",
      "Notes:\n",
      "[1] Standard Errors assume that the covariance matrix of the errors is correctly specified.\n"
     ]
    },
    {
     "name": "stderr",
     "output_type": "stream",
     "text": [
      "C:\\Users\\odela\\AppData\\Local\\Programs\\Orange\\Lib\\site-packages\\statsmodels\\stats\\stattools.py:74: ValueWarning: omni_normtest is not valid with less than 8 observations; 5 samples were given.\n",
      "  warn(\"omni_normtest is not valid with less than 8 observations; %i \"\n"
     ]
    }
   ],
   "source": [
    "import statsmodels.api as sm\n",
    "regressor= sm.OLS(Y,X).fit()\n",
    "print(regressor.summary())"
   ]
  },
  {
   "cell_type": "markdown",
   "id": "9e6f2b96-5133-43f5-843e-d3075f360316",
   "metadata": {},
   "source": [
    "## al tener R2 tan altos y que los modelos arrojen que las variables no son estadísticamente significativas, se puede deber al que hay una gran correlación entre ambas variables (multicolianealidad) y no pueden coexistir variables correlacionadas\n",
    "\n",
    "## Sólo se puede quitar una variable a la vez y se repite el análisis"
   ]
  },
  {
   "cell_type": "code",
   "execution_count": 122,
   "id": "85839638-a9e7-446d-8ee1-84c27a8588a2",
   "metadata": {},
   "outputs": [
    {
     "data": {
      "text/html": [
       "<div>\n",
       "<style scoped>\n",
       "    .dataframe tbody tr th:only-of-type {\n",
       "        vertical-align: middle;\n",
       "    }\n",
       "\n",
       "    .dataframe tbody tr th {\n",
       "        vertical-align: top;\n",
       "    }\n",
       "\n",
       "    .dataframe thead th {\n",
       "        text-align: right;\n",
       "    }\n",
       "</style>\n",
       "<table border=\"1\" class=\"dataframe\">\n",
       "  <thead>\n",
       "    <tr style=\"text-align: right;\">\n",
       "      <th></th>\n",
       "      <th>1</th>\n",
       "      <th>2</th>\n",
       "    </tr>\n",
       "  </thead>\n",
       "  <tbody>\n",
       "    <tr>\n",
       "      <th>1</th>\n",
       "      <td>1.000000</td>\n",
       "      <td>0.948683</td>\n",
       "    </tr>\n",
       "    <tr>\n",
       "      <th>2</th>\n",
       "      <td>0.948683</td>\n",
       "      <td>1.000000</td>\n",
       "    </tr>\n",
       "  </tbody>\n",
       "</table>\n",
       "</div>"
      ],
      "text/plain": [
       "          1         2\n",
       "1  1.000000  0.948683\n",
       "2  0.948683  1.000000"
      ]
     },
     "execution_count": 122,
     "metadata": {},
     "output_type": "execute_result"
    }
   ],
   "source": [
    "# prueba de multicolinealidad ente varibles\n",
    "# tienen correlaciones muy altas\n",
    "data= pd.DataFrame(X)\n",
    "data2= data.iloc[:,1:3]\n",
    "data2.corr()"
   ]
  },
  {
   "cell_type": "markdown",
   "id": "d813a3a1-e5c1-47ac-8d42-b8a2eb845559",
   "metadata": {},
   "source": [
    "#### para saber cual variable quitar, se revisa el valor de p y se quita al que tenga el valor más alto, en este caso la segunda variable con .388"
   ]
  },
  {
   "cell_type": "code",
   "execution_count": 140,
   "id": "6a232865-1d06-4e25-b1f6-5acf227bc6a4",
   "metadata": {},
   "outputs": [
    {
     "data": {
      "text/plain": [
       "array([[1, 3],\n",
       "       [1, 1],\n",
       "       [1, 5],\n",
       "       [1, 2],\n",
       "       [1, 4]])"
      ]
     },
     "execution_count": 140,
     "metadata": {},
     "output_type": "execute_result"
    }
   ],
   "source": [
    "# reporte con sólo la variable que se va a dejar\n",
    "# np.delete para borrar columnas o renglones de un arreglo, X es el arreglo, luego se pone el número de renglón o columna deseada\n",
    "# y por último se indica con 1 si es columna y con 0 sí es renglón\n",
    "X_nueva= np.delete(X,2,1)\n",
    "X_nueva"
   ]
  },
  {
   "cell_type": "code",
   "execution_count": 142,
   "id": "10a47657-2212-4d4a-b364-e005dbb9a8cb",
   "metadata": {},
   "outputs": [
    {
     "name": "stdout",
     "output_type": "stream",
     "text": [
      "                            OLS Regression Results                            \n",
      "==============================================================================\n",
      "Dep. Variable:                      y   R-squared:                       0.914\n",
      "Model:                            OLS   Adj. R-squared:                  0.886\n",
      "Method:                 Least Squares   F-statistic:                     32.00\n",
      "Date:                Thu, 29 May 2025   Prob (F-statistic):             0.0109\n",
      "Time:                        20:00:18   Log-Likelihood:                -5.2598\n",
      "No. Observations:                   5   AIC:                             14.52\n",
      "Df Residuals:                       3   BIC:                             13.74\n",
      "Df Model:                           1                                         \n",
      "Covariance Type:            nonrobust                                         \n",
      "==============================================================================\n",
      "                 coef    std err          t      P>|t|      [0.025      0.975]\n",
      "------------------------------------------------------------------------------\n",
      "const         -0.8000      0.938     -0.853      0.456      -3.785       2.185\n",
      "x1             1.6000      0.283      5.657      0.011       0.700       2.500\n",
      "==============================================================================\n",
      "Omnibus:                          nan   Durbin-Watson:                   1.367\n",
      "Prob(Omnibus):                    nan   Jarque-Bera (JB):                0.570\n",
      "Skew:                          -0.289   Prob(JB):                        0.752\n",
      "Kurtosis:                       1.450   Cond. No.                         8.37\n",
      "==============================================================================\n",
      "\n",
      "Notes:\n",
      "[1] Standard Errors assume that the covariance matrix of the errors is correctly specified.\n"
     ]
    },
    {
     "name": "stderr",
     "output_type": "stream",
     "text": [
      "C:\\Users\\odela\\AppData\\Local\\Programs\\Orange\\Lib\\site-packages\\statsmodels\\stats\\stattools.py:74: ValueWarning: omni_normtest is not valid with less than 8 observations; 5 samples were given.\n",
      "  warn(\"omni_normtest is not valid with less than 8 observations; %i \"\n"
     ]
    }
   ],
   "source": [
    "regressor= sm.OLS(Y,X_nueva).fit()\n",
    "print(regressor.summary())"
   ]
  },
  {
   "cell_type": "markdown",
   "id": "575ca913-4c0c-4d55-83e9-7ac190bb5281",
   "metadata": {},
   "source": [
    "#### la variable ahora sí es significativa con un P>t menor que 5% y sus intervalos van de .7 y 2.5, por lo que no puede ser cero, pero sí se paga un poco en la r2 y la r2 ajustada, pero es mejor ya que se evita el ruido en el modelo\n",
    "\n",
    "#### la constante aunque no parezca significativa, no se debe eliminar"
   ]
  },
  {
   "cell_type": "code",
   "execution_count": null,
   "id": "8002c87b-d880-4180-9844-415abb09d77f",
   "metadata": {},
   "outputs": [],
   "source": []
  }
 ],
 "metadata": {
  "kernelspec": {
   "display_name": "Python [conda env:Orange]",
   "language": "python",
   "name": "conda-env-Orange-py"
  },
  "language_info": {
   "codemirror_mode": {
    "name": "ipython",
    "version": 3
   },
   "file_extension": ".py",
   "mimetype": "text/x-python",
   "name": "python",
   "nbconvert_exporter": "python",
   "pygments_lexer": "ipython3",
   "version": "3.11.8"
  }
 },
 "nbformat": 4,
 "nbformat_minor": 5
}
